{
 "cells": [
  {
   "cell_type": "markdown",
   "metadata": {},
   "source": [
    "## [作業目標]\n",
    "了解機器學習適合應用的領域與範疇。"
   ]
  },
  {
   "cell_type": "markdown",
   "metadata": {},
   "source": [
    "## [作業重點]\n",
    "透過瞭解機器學習的運作方式，找出非常適用機器學習應用的領域及其原因"
   ]
  },
  {
   "cell_type": "markdown",
   "metadata": {},
   "source": [
    "## 作業\n",
    "請找出一個你認為機器學習可以發光發熱的領域並闡述原因? "
   ]
  },
  {
   "cell_type": "markdown",
   "metadata": {},
   "source": [
    "https://www.ithome.com.tw/news/125895 <br />\n",
    "\"以Nvidia自駕車BB8來說，這臺車上對外至少就用到了10種不同DNN模型，用於處理車道線、行人、障礙物，以及可通行空間等訊息。\n",
    "蕭怡祺表示，他曾看過有人最多使用20個DNN模型，分別用於車外環境辨識與車內監控上，「這還只是相機偵測，其他還會有雷達和光達偵側來相互對照，\n",
    "最後，再由決策系統依這些環境感知訊息，搭配地圖定位、交通法規等，綜合協調出一個合乎邏輯的行車策略。」他說。\"\n",
    "\n",
    "自動駕駛\n",
    "1. 需要很多的機器學習演算法整合\n",
    "2. 需要許多的感知器融合\n",
    "3. 資料收集的場景很多樣, 且各個地區的特性和法規不同\n",
    "4. 需要更進化的決策系統 \n",
    "\"光只是感知能力強還不夠，無人車還要具備有高度決策邏輯的判斷能力，能在複雜車流、行人穿梭的不確定路況中，依據這些綜合環境情資下達正確決定，決策系統也得要變得更有智慧才行。\"\n",
    "        "
   ]
  },
  {
   "cell_type": "code",
   "execution_count": null,
   "metadata": {},
   "outputs": [],
   "source": []
  }
 ],
 "metadata": {
  "kernelspec": {
   "display_name": "Python 3",
   "language": "python",
   "name": "python3"
  },
  "language_info": {
   "codemirror_mode": {
    "name": "ipython",
    "version": 3
   },
   "file_extension": ".py",
   "mimetype": "text/x-python",
   "name": "python",
   "nbconvert_exporter": "python",
   "pygments_lexer": "ipython3",
   "version": "3.7.3"
  }
 },
 "nbformat": 4,
 "nbformat_minor": 2
}
